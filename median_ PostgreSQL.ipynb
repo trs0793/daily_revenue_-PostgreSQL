{
 "cells": [
  {
   "cell_type": "code",
   "execution_count": 2,
   "id": "ca84cbec",
   "metadata": {},
   "outputs": [
    {
     "name": "stdout",
     "output_type": "stream",
     "text": [
      "Collecting psycopg2-binary\n",
      "  Downloading psycopg2_binary-2.9.9-cp39-cp39-win_amd64.whl (1.2 MB)\n",
      "     ---------------------------------------- 1.2/1.2 MB 8.3 MB/s eta 0:00:00\n",
      "Installing collected packages: psycopg2-binary\n",
      "Successfully installed psycopg2-binary-2.9.9\n",
      "Note: you may need to restart the kernel to use updated packages.\n"
     ]
    }
   ],
   "source": [
    "pip install psycopg2-binary\n"
   ]
  },
  {
   "cell_type": "code",
   "execution_count": 12,
   "id": "e723188c",
   "metadata": {},
   "outputs": [],
   "source": [
    "import psycopg2\n",
    "import pandas as pd\n",
    "import requests\n",
    "from io import StringIO"
   ]
  },
  {
   "cell_type": "code",
   "execution_count": null,
   "id": "2e6a5d49",
   "metadata": {},
   "outputs": [],
   "source": [
    "query = '''\n",
    " WITH t AS (\n",
    "  SELECT \n",
    "    price, \n",
    "    row_number() OVER (ORDER BY price) AS number \n",
    "  FROM (\n",
    "    SELECT \n",
    "      order_id, \n",
    "      product_ids, \n",
    "      SUM(price) AS price \n",
    "    FROM (\n",
    "      SELECT \n",
    "        *, \n",
    "        unnest(product_ids) AS product_id \n",
    "      FROM \n",
    "        orders\n",
    "    ) t1 \n",
    "    LEFT JOIN products USING(product_id) \n",
    "    WHERE \n",
    "      order_id NOT IN (\n",
    "        SELECT \n",
    "          order_id \n",
    "        FROM \n",
    "          user_actions \n",
    "        WHERE \n",
    "          action = 'cancel_order'\n",
    "      ) \n",
    "    GROUP BY \n",
    "      order_id, \n",
    "      product_ids\n",
    "  ) AS t2\n",
    ") \n",
    "SELECT \n",
    "  CASE \n",
    "    WHEN (SELECT COUNT(*) FROM t) % 2 = 0 THEN (\n",
    "      SELECT \n",
    "        AVG(price) \n",
    "      FROM \n",
    "        t \n",
    "      WHERE \n",
    "        number = (SELECT MAX(number)/2.0 FROM t) \n",
    "        OR number = (SELECT MAX(number)/2.0 FROM t) + 1\n",
    "    ) \n",
    "    ELSE (\n",
    "      SELECT \n",
    "        price \n",
    "      FROM \n",
    "        t \n",
    "      WHERE \n",
    "        number = (SELECT AVG(number) FROM t)\n",
    "    ) \n",
    "  END AS median_price \n",
    "FROM \n",
    "  t \n",
    "LIMIT 1;\n",
    "\n",
    "    '''"
   ]
  },
  {
   "cell_type": "code",
   "execution_count": 14,
   "id": "8049ec77",
   "metadata": {
    "scrolled": true
   },
   "outputs": [
    {
     "name": "stdout",
     "output_type": "stream",
     "text": [
      "   median_price\n",
      "0         321.0\n"
     ]
    }
   ],
   "source": [
    "# URL для выполнения запроса\n",
    "redash_url = 'http://redash.public.karpov.courses/api/queries/51119/results.csv?api_key=nN4z8WpasuiJGBJnWfXGJl4r4BTuAfRh0hb0eYPZ'\n",
    "\n",
    "# Выполнение запроса и получение данных в формате CSV\n",
    "response = requests.get(redash_url)\n",
    "\n",
    "# Проверка успешности выполнения запроса\n",
    "if response.status_code == 200:\n",
    "    # Преобразование данных в DataFrame\n",
    "    df = pd.read_csv(StringIO(response.text))\n",
    "    \n",
    "    # Вывод первых 5 строк DataFrame\n",
    "    print(df.head())\n",
    "else:\n",
    "    print(f\"Error: {response.status_code}\")\n",
    "    print(response.text)"
   ]
  },
  {
   "cell_type": "markdown",
   "id": "65db8e49",
   "metadata": {},
   "source": [
    "**Вывод:** c помощью оконной функции рассчитал медианную стоимость всех заказов из таблицы orders, оформленных в сервисе. Запрос учитывает два возможных сценария: для чётного и нечётного числа заказов без применения встроенных функции для расчёта квантилей."
   ]
  }
 ],
 "metadata": {
  "kernelspec": {
   "display_name": "Python 3 (ipykernel)",
   "language": "python",
   "name": "python3"
  },
  "language_info": {
   "codemirror_mode": {
    "name": "ipython",
    "version": 3
   },
   "file_extension": ".py",
   "mimetype": "text/x-python",
   "name": "python",
   "nbconvert_exporter": "python",
   "pygments_lexer": "ipython3",
   "version": "3.9.13"
  }
 },
 "nbformat": 4,
 "nbformat_minor": 5
}
